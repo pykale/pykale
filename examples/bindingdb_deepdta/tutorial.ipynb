{
  "nbformat": 4,
  "nbformat_minor": 5,
  "metadata": {},
  "cells": [
    {
      "metadata": {},
      "source": [
        "# PyKale Tutorial: Drug-Target Interaction Prediction using DeepDTA\n",
        "\n",
        "| [Open In Colab](https://colab.research.google.com/github/pykale/pykale/blob/main/examples/bindingdb_deepdta/tutorial.ipynb) (click `Runtime`\u2006\u2192\u2006`Run all (Ctrl+F9)` |\n",
        "\n",
        "If using [Google Colab](https://colab.research.google.com), a free GPU can be enabled to save time via setting `Runtime`\u2006\u2192\u2006`Change runtime type` \u2192 `Hardware accelerator: GPU`"
      ],
      "cell_type": "markdown"
    },
    {
      "metadata": {},
      "source": [
        "## Introduction\n",
        "Drug-target interaction prediction is an important research area in the field of drug discovery. It refers to predicting the binding affinity between the given chemical compounds and protein targets. In this example we train a standard DeepDTA model as a baseline in BindingDB, a public, web-accessible dataset of measured binding affinities.\n",
        "\n",
        "### DeepDTA\n",
        "[DeepDTA](https://academic.oup.com/bioinformatics/article/34/17/i821/5093245) is the modeling of protein sequences and compound 1D representations with convolutional neural networks (CNNs). The whole architecture of DeepDTA is shown below.\n",
        "\n",
        "![DeepDTA](https://raw.githubusercontent.com/hkmztrk/DeepDTA/master/docs/figures/deepdta.PNG)\n",
        "\n",
        "### Datasets\n",
        "We construct **three datasets** from BindingDB distinguished by different affinity measurement metrics\n",
        "(**Kd, IC50 and Ki**). They are acquired from [Therapeutics Data Commons](https://tdcommons.ai/) (TDC), which is a collection of machine learning tasks spreading across different domains of therapeutics. The data statistics is shown below:\n",
        "\n",
        "|  Metrics   | Drugs | Targets | Pairs |\n",
        "|  :----:  | :----:  |   :----:  | :----:  |\n",
        "| Kd  | 10,655 | 1,413 | 52,284 |\n",
        "| IC50  | 549,205 | 5,078 | 991,486 |\n",
        "| Ki | 174,662 | 3,070 | 375,032 |\n",
        "\n",
        "This figure is the binding affinity distribution for the three datasets respectively, where the metric values (x-axis) have been transformed into log space.\n",
        "![Binding affinity distribution](figures/bindingdb.jpg)\n",
        "This tutorial uses the (smallest) **Kd** dataset.\n",
        "\n",
        "## Setup\n",
        "\n",
        "The first few blocks of code are necessary to set up the notebook execution environment and import the required modules, including PyKale.\n",
        "\n",
        "This checks if the notebook is running on Google Colab and installs required packages."
      ],
      "cell_type": "markdown"
    },
    {
      "metadata": {},
      "source": [
        "if 'google.colab' in str(get_ipython()):\n",
        "    print('Running on CoLab')\n",
        "    !pip uninstall --yes imgaug && pip uninstall --yes albumentations && pip install git+https://github.com/aleju/imgaug.git\n",
        "    !pip install rdkit\n",
        "    !git clone https://github.com/pykale/pykale.git\n",
        "    %cd pykale\n",
        "    !pip install .[graph,example] \n",
        "    %cd examples/bindingdb_deepdta\n",
        "else:\n",
        "    print('Not running on CoLab')"
      ],
      "cell_type": "code",
      "outputs": [],
      "execution_count": null
    },
    {
      "metadata": {},
      "source": [
        "import os\n",
        "import torch\n",
        "os.environ['TORCH'] = torch.__version__\n",
        "print(torch.__version__)\n",
        "\n",
        "!pip install -q torch-scatter==2.1.1 -f https://pytorch-geometric.com/whl/torch-2.0.1+cpu.html\n",
        "!pip install -q torch-sparse==0.6.17 -f https://pytorch-geometric.com/whl/torch-2.0.1+cpu.html\n",
        "!pip install -q torch-geometric==2.3.0\n",
        "!pip install tensorboard"
      ],
      "cell_type": "code",
      "outputs": [],
      "execution_count": null
    },
    {
      "metadata": {},
      "source": [
        "This imports required modules."
      ],
      "cell_type": "markdown"
    },
    {
      "metadata": {},
      "source": [
        "import pytorch_lightning as pl\n",
        "import torch\n",
        "from config import get_cfg_defaults\n",
        "from model import get_model\n",
        "from pytorch_lightning.callbacks import ModelCheckpoint\n",
        "from pytorch_lightning.loggers import TensorBoardLogger\n",
        "from torch.utils.data import DataLoader, Subset\n",
        "\n",
        "from kale.loaddata.tdc_datasets import BindingDBDataset\n",
        "from kale.utils.seed import set_seed"
      ],
      "cell_type": "code",
      "outputs": [],
      "execution_count": null
    },
    {
      "metadata": {},
      "source": [
        "## Configuration\n",
        "\n",
        "The customized configuration used in this tutorial is stored in `./configs/tutorial.yaml`, this file overwrites defaults in `config.py` where a value is specified.\n",
        "\n",
        "For saving time to run a whole pipeline in this tutorial, we sample small train/valid/test (8,000/1,000/1,000) subsets from the original BindingDB dataset."
      ],
      "cell_type": "markdown"
    },
    {
      "metadata": {},
      "source": [
        "cfg_path = \"./configs/tutorial.yaml\"\n",
        "train_subset_size, valid_subset_size, test_subset_size = 8000, 1000, 1000\n",
        "\n",
        "cfg = get_cfg_defaults()\n",
        "cfg.merge_from_file(cfg_path)\n",
        "cfg.freeze()\n",
        "print(cfg)\n",
        "\n",
        "set_seed(cfg.SOLVER.SEED)"
      ],
      "cell_type": "code",
      "outputs": [],
      "execution_count": null
    },
    {
      "metadata": {},
      "source": [
        "## Check if a GPU is available\n",
        "\n",
        "If a CUDA GPU is available, this should be used to accelerate the training process. The code below checks and reports on this.\n"
      ],
      "cell_type": "markdown"
    },
    {
      "metadata": {},
      "source": [
        "device = \"cuda\" if torch.cuda.is_available() else \"cpu\"\n",
        "print(\"Using: \" + device)\n",
        "devices = 1 if device == \"cuda\" else 0"
      ],
      "cell_type": "code",
      "outputs": [],
      "execution_count": null
    },
    {
      "metadata": {},
      "source": [
        "## Select Datasets\n",
        "\n",
        "Source and target datasets are specified using the `BindingDBDataset()` function and loaded using the `DataLoader()` function."
      ],
      "cell_type": "markdown"
    },
    {
      "metadata": {},
      "source": [
        "train_dataset = BindingDBDataset(name=cfg.DATASET.NAME, split=\"train\", path=cfg.DATASET.PATH)\n",
        "valid_dataset = BindingDBDataset(name=cfg.DATASET.NAME, split=\"valid\", path=cfg.DATASET.PATH)\n",
        "test_dataset = BindingDBDataset(name=cfg.DATASET.NAME, split=\"test\", path=cfg.DATASET.PATH)\n",
        "train_size, valid_size, test_size = len(train_dataset), len(valid_dataset), len(test_dataset)\n",
        "train_sample_indices, valid_sample_indices, test_sample_indices = torch.randperm(train_size)[:train_subset_size].tolist(), torch.randperm(valid_size)[:valid_subset_size].tolist(), torch.randperm(test_size)[:test_subset_size].tolist()\n",
        "train_dataset, valid_dataset, test_dataset = Subset(train_dataset, train_sample_indices), Subset(valid_dataset, valid_sample_indices), Subset(test_dataset, test_sample_indices)"
      ],
      "cell_type": "code",
      "outputs": [],
      "execution_count": null
    },
    {
      "metadata": {},
      "source": [
        "cfg.DATASET.PATH"
      ],
      "cell_type": "code",
      "outputs": [],
      "execution_count": null
    },
    {
      "metadata": {},
      "source": [
        "train_loader = DataLoader(dataset=train_dataset, shuffle=True, batch_size=cfg.SOLVER.TRAIN_BATCH_SIZE)\n",
        "valid_loader = DataLoader(dataset=valid_dataset, shuffle=True, batch_size=cfg.SOLVER.TEST_BATCH_SIZE)\n",
        "test_loader = DataLoader(dataset=test_dataset, shuffle=True, batch_size=cfg.SOLVER.TEST_BATCH_SIZE)"
      ],
      "cell_type": "code",
      "outputs": [],
      "execution_count": null
    },
    {
      "metadata": {},
      "source": [
        "## Setup model\n",
        "\n",
        "Here, we use the previously defined configuration and dataset to set up the model we will subsequently train."
      ],
      "cell_type": "markdown"
    },
    {
      "metadata": {},
      "source": [
        "model = get_model(cfg)"
      ],
      "cell_type": "code",
      "outputs": [],
      "execution_count": null
    },
    {
      "metadata": {},
      "source": [
        "## Setup Logger\n",
        "\n",
        "A logger is used to store output generated during and after model training. This information can be used to assess the effectiveness of the training and to identify problems."
      ],
      "cell_type": "markdown"
    },
    {
      "metadata": {},
      "source": [
        "tb_logger = TensorBoardLogger(\"outputs\", name=cfg.DATASET.NAME)"
      ],
      "cell_type": "code",
      "outputs": [],
      "execution_count": null
    },
    {
      "metadata": {},
      "source": [
        "## Setup Trainer\n",
        "\n",
        "A trainer object is used to determine and store model parameters. Here, one is configured with information on how a model should be trained, and what hardware will be used."
      ],
      "cell_type": "markdown"
    },
    {
      "metadata": {},
      "source": [
        "checkpoint_callback = ModelCheckpoint(filename=\"{epoch}-{step}-{valid_loss:.4f}\", monitor=\"valid_loss\", mode=\"min\")\n",
        "trainer = pl.Trainer(min_epochs=cfg.SOLVER.MIN_EPOCHS, \n",
        "                     max_epochs=cfg.SOLVER.MAX_EPOCHS,\n",
        "                     accelerator=\"gpu\" if devices != 0 else \"cpu\",\n",
        "                     logger=tb_logger,\n",
        "                     callbacks=[checkpoint_callback])"
      ],
      "cell_type": "code",
      "outputs": [],
      "execution_count": null
    },
    {
      "metadata": {},
      "source": [
        "## Train Model\n",
        "\n",
        "Optimize model parameters using the trainer."
      ],
      "cell_type": "markdown"
    },
    {
      "metadata": {},
      "source": [
        "%time trainer.fit(model, train_dataloaders=train_loader, val_dataloaders=valid_loader)"
      ],
      "cell_type": "code",
      "outputs": [],
      "execution_count": null
    },
    {
      "metadata": {},
      "source": [
        "## Test Optimized Model\n",
        "\n",
        "Check performance of model optimized with training data against test data which was not used in training."
      ],
      "cell_type": "markdown"
    },
    {
      "metadata": {},
      "source": [
        "trainer.test(dataloaders=test_loader)"
      ],
      "cell_type": "code",
      "outputs": [],
      "execution_count": null
    },
    {
      "metadata": {},
      "source": [
        "You should get a test loss of $7.3\\cdots$ in root mean square error (RMSE). The target value ($y$) has a range of [-13, 20] (in log space). Thus, with only three epochs, we have learned to predict the target value with an RMSE of 7.3 over a range of [-13, 20].\n",
        "\n",
        "We set the maximum epochs to 3 and extract a subset (8000/1000/1000) to save time in running this tutorial. You may change these settings. Setting the max epochs to 100 and using the full dataset will get a much better result (<1)."
      ],
      "cell_type": "markdown"
    },
    {
      "metadata": {},
      "source": [
        "## Architecture\n",
        "Below is the architecture of DeepDTA with default hyperparameters settings.\n",
        "\n",
        "<pre>\n",
        "==========================================================================================\n",
        "Layer (type:depth-idx)                   Output Shape              Param #\n",
        "==========================================================================================\n",
        "\u251c\u2500CNNEncoder: 1-1                        [256, 96]                 --\n",
        "|    \u2514\u2500Embedding: 2-1                    [256, 85, 128]            8,320\n",
        "|    \u2514\u2500Conv1d: 2-2                       [256, 32, 121]            21,792\n",
        "|    \u2514\u2500Conv1d: 2-3                       [256, 64, 114]            16,448\n",
        "|    \u2514\u2500Conv1d: 2-4                       [256, 96, 107]            49,248\n",
        "|    \u2514\u2500AdaptiveMaxPool1d: 2-5            [256, 96, 1]              --\n",
        "\u251c\u2500CNNEncoder: 1-2                        [256, 96]                 --\n",
        "|    \u2514\u2500Embedding: 2-6                    [256, 1200, 128]          3,328\n",
        "|    \u2514\u2500Conv1d: 2-7                       [256, 32, 121]            307,232\n",
        "|    \u2514\u2500Conv1d: 2-8                       [256, 64, 114]            16,448\n",
        "|    \u2514\u2500Conv1d: 2-9                       [256, 96, 107]            49,248\n",
        "|    \u2514\u2500AdaptiveMaxPool1d: 2-10           [256, 96, 1]              --\n",
        "\u251c\u2500MLPDecoder: 1-3                        [256, 1]                  --\n",
        "|    \u2514\u2500Linear: 2-11                      [256, 1024]               197,632\n",
        "|    \u2514\u2500Dropout: 2-12                     [256, 1024]               --\n",
        "|    \u2514\u2500Linear: 2-13                      [256, 1024]               1,049,600\n",
        "|    \u2514\u2500Dropout: 2-14                     [256, 1024]               --\n",
        "|    \u2514\u2500Linear: 2-15                      [256, 512]                524,800\n",
        "|    \u2514\u2500Linear: 2-16                      [256, 1]                  513\n",
        "==========================================================================================\n",
        "Total params: 2,244,609\n",
        "Trainable params: 2,244,609\n",
        "Non-trainable params: 0\n",
        "Total mult-adds (M): 58.08\n",
        "==========================================================================================\n",
        "Input size (MB): 1.32\n",
        "Forward/backward pass size (MB): 429.92\n",
        "Params size (MB): 8.98\n",
        "Estimated Total Size (MB): 440.21"
      ],
      "cell_type": "markdown"
    }
  ]
}
