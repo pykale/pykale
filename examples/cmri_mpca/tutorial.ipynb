{
  "nbformat": 4,
  "nbformat_minor": 4,
  "metadata": {},
  "cells": [
    {
      "metadata": {},
      "source": [
        "# PyKale Tutorial: PAH Diagnosis from Cardiac MRI (CMR) via a Multilinear PCA-based Pipeline\n",
        "| [Open in Colab](https://colab.research.google.com/github/pykale/pykale/blob/main/examples/cmri_mpca/tutorial.ipynb) (click `Runtime`\u2006\u2192\u2006`Run all (Ctrl+F9)` |  [Launch Binder](https://mybinder.org/v2/gh/pykale/pykale/HEAD?filepath=examples%2Fcmri_mpca%2Ftutorial.ipynb) (click `Run`\u2006\u2192\u2006`Run All Cells`) |"
      ],
      "cell_type": "markdown"
    },
    {
      "metadata": {},
      "source": [
        "## Overview\n",
        "\n",
        "- Pre-processing:\n",
        "    - Registration\n",
        "    - Masking\n",
        "    - Rescaling\n",
        "    - Normalization\n",
        "- Machine learning pipeline:\n",
        "    - Multilinear principal component analysis\n",
        "    - Discriminative feature selection\n",
        "    - Linear classification model training    \n",
        "\n",
        "**Reference:**\n",
        "\n",
        "Swift, A. J., Lu, H., Uthoff, J., Garg, P., Cogliano, M., Taylor, J., ... & Kiely, D. G. (2021). [A machine learning cardiac magnetic resonance approach to extract disease features and automate pulmonary arterial hypertension diagnosis](https://academic.oup.com/ehjcimaging/article/22/2/236/5717931). European Heart Journal-Cardiovascular Imaging."
      ],
      "cell_type": "markdown"
    },
    {
      "metadata": {},
      "source": [
        "## Setup"
      ],
      "cell_type": "markdown"
    },
    {
      "metadata": {},
      "source": [
        "if 'google.colab' in str(get_ipython()):\n",
        "    print('Running on CoLab')\n",
        "    !pip uninstall --yes imgaug && pip uninstall --yes albumentations && pip install git+https://github.com/aleju/imgaug.git\n",
        "    !git clone https://github.com/pykale/pykale.git\n",
        "    %cd pykale\n",
        "    !pip install .[image,example] \n",
        "    %cd examples/cmri_mpca\n",
        "else:\n",
        "    print('Not running on CoLab')"
      ],
      "cell_type": "code",
      "outputs": [],
      "execution_count": null
    },
    {
      "metadata": {},
      "source": [
        "This imports required modules."
      ],
      "cell_type": "markdown"
    },
    {
      "metadata": {},
      "source": [
        "import os\n",
        "\n",
        "%matplotlib inline\n",
        "import matplotlib.pyplot as plt\n",
        "import numpy as np\n",
        "import pandas as pd\n",
        "from config import get_cfg_defaults\n",
        "\n",
        "from kale.utils.download import download_file_by_url\n",
        "from kale.loaddata.image_access import dicom2arraylist, read_dicom_dir\n",
        "from kale.interpret import visualize"
      ],
      "cell_type": "code",
      "outputs": [],
      "execution_count": null
    },
    {
      "metadata": {},
      "source": [
        "## Get CMR Images, Landmark Locations, and Labels"
      ],
      "cell_type": "markdown"
    },
    {
      "metadata": {},
      "source": [
        "cfg_path = \"configs/tutorial_svc.yaml\" # Path to `.yaml` config file\n",
        "\n",
        "cfg = get_cfg_defaults()\n",
        "cfg.merge_from_file(cfg_path)\n",
        "cfg.freeze()\n",
        "print(cfg)"
      ],
      "cell_type": "code",
      "outputs": [],
      "execution_count": null
    },
    {
      "metadata": {},
      "source": [
        "### Download Data"
      ],
      "cell_type": "markdown"
    },
    {
      "metadata": {},
      "source": [
        "base_dir = cfg.DATASET.BASE_DIR\n",
        "file_format = cfg.DATASET.FILE_FORAMT\n",
        "download_file_by_url(cfg.DATASET.SOURCE, cfg.DATASET.ROOT, \"%s.%s\" % (base_dir, file_format), file_format)"
      ],
      "cell_type": "code",
      "outputs": [],
      "execution_count": null
    },
    {
      "metadata": {},
      "source": [
        "### Read DICOM Images"
      ],
      "cell_type": "markdown"
    },
    {
      "metadata": {},
      "source": [
        "img_path = os.path.join(cfg.DATASET.ROOT, base_dir, cfg.DATASET.IMG_DIR)\n",
        "patient_dcm_list = read_dicom_dir(img_path, sort_instance=True, sort_patient=True)\n",
        "images, patient_ids = dicom2arraylist(patient_dcm_list, return_patient_id=True)\n",
        "patient_ids = np.array(patient_ids, dtype=int)\n",
        "n_samples = len(images)\n",
        "\n",
        "mask_path = os.path.join(cfg.DATASET.ROOT, base_dir, cfg.DATASET.MASK_DIR)\n",
        "mask_dcm = read_dicom_dir(mask_path, sort_instance=True)\n",
        "mask = dicom2arraylist(mask_dcm, return_patient_id=False)[0][0, ...]"
      ],
      "cell_type": "code",
      "outputs": [],
      "execution_count": null
    },
    {
      "metadata": {},
      "source": [
        "### Read Landmarks and Get Labels"
      ],
      "cell_type": "markdown"
    },
    {
      "metadata": {},
      "source": [
        "landmark_path = os.path.join(cfg.DATASET.ROOT, base_dir, cfg.DATASET.LANDMARK_FILE)\n",
        "landmark_df = pd.read_csv(landmark_path, index_col=\"Subject\").loc[patient_ids]  # read .csv file as dataframe\n",
        "landmarks = landmark_df.iloc[:, :-1].values\n",
        "y = landmark_df[\"Group\"].values\n",
        "y[np.where(y != 0)] = 1  # convert to binary classification problem, i.e. no PH vs PAH"
      ],
      "cell_type": "code",
      "outputs": [],
      "execution_count": null
    },
    {
      "metadata": {},
      "source": [
        "### Visualizing Data and Landmarks"
      ],
      "cell_type": "markdown"
    },
    {
      "metadata": {},
      "source": [
        "# Get landmark names from column names\n",
        "marker_names = list(landmark_df.columns[1::2])\n",
        "markers = []\n",
        "for marker in marker_names:\n",
        "    marker_name = marker.split(\" \")\n",
        "    marker_name.pop(-1)\n",
        "    marker_name = \" \".join(marker_name)\n",
        "    markers.append(marker_name)"
      ],
      "cell_type": "code",
      "outputs": [],
      "execution_count": null
    },
    {
      "metadata": {},
      "source": [
        "# plot the first phase of images with landmarks\n",
        "\n",
        "n_img_per_fig = 35\n",
        "n_figures = int(n_samples / n_img_per_fig) + 1\n",
        "for k in range(n_figures):\n",
        "    visualize.plot_multi_images(\n",
        "        [images[i][0, ...] for i in range(k * n_img_per_fig, min((k + 1) * n_img_per_fig, n_samples))],\n",
        "        marker_locs=landmarks[k * n_img_per_fig: min((k + 1) * n_img_per_fig, n_samples), :],\n",
        "        im_kwargs=dict(cfg.PLT_KWS.IM),\n",
        "        marker_cmap=\"Set1\",\n",
        "        marker_kwargs=dict(cfg.PLT_KWS.MARKER),\n",
        "        marker_titles=markers,\n",
        "        image_titles=list(patient_ids[k * n_img_per_fig: min((k + 1) * n_img_per_fig, n_samples)]),\n",
        "        n_cols=5,\n",
        "    ).show()"
      ],
      "cell_type": "code",
      "outputs": [],
      "execution_count": null
    },
    {
      "metadata": {},
      "source": [
        "## CMR Pre-processing"
      ],
      "cell_type": "markdown"
    },
    {
      "metadata": {},
      "source": [
        "from kale.prepdata.image_transform import mask_img_stack, normalize_img_stack, reg_img_stack, rescale_img_stack"
      ],
      "cell_type": "code",
      "outputs": [],
      "execution_count": null
    },
    {
      "metadata": {},
      "source": [
        "### Image Registration"
      ],
      "cell_type": "markdown"
    },
    {
      "metadata": {},
      "source": [
        "img_reg, max_dist = reg_img_stack(images.copy(), landmarks, landmarks[0])"
      ],
      "cell_type": "code",
      "outputs": [],
      "execution_count": null
    },
    {
      "metadata": {},
      "source": [
        "plt_kawargs = {**{\"im_kwargs\": dict(cfg.PLT_KWS.IM), \"image_titles\": list(patient_ids)}, **dict(cfg.PLT_KWS.PLT)}\n",
        "visualize.plot_multi_images([img_reg[i][0, ...] for i in range(n_samples)], **plt_kawargs).show()"
      ],
      "cell_type": "code",
      "outputs": [],
      "execution_count": null
    },
    {
      "metadata": {},
      "source": [
        "### Masking"
      ],
      "cell_type": "markdown"
    },
    {
      "metadata": {},
      "source": [
        "img_masked = mask_img_stack(img_reg.copy(), mask)"
      ],
      "cell_type": "code",
      "outputs": [],
      "execution_count": null
    },
    {
      "metadata": {},
      "source": [
        "visualize.plot_multi_images([img_masked[i][0, ...] for i in range(n_samples)], **plt_kawargs).show()"
      ],
      "cell_type": "code",
      "outputs": [],
      "execution_count": null
    },
    {
      "metadata": {},
      "source": [
        "### Rescaling"
      ],
      "cell_type": "markdown"
    },
    {
      "metadata": {},
      "source": [
        "img_rescaled = rescale_img_stack(img_masked.copy(), scale=1 / cfg.PROC.SCALE)"
      ],
      "cell_type": "code",
      "outputs": [],
      "execution_count": null
    },
    {
      "metadata": {},
      "source": [
        "visualize.plot_multi_images([img_rescaled[i][0, ...] for i in range(n_samples)], **plt_kawargs).show()"
      ],
      "cell_type": "code",
      "outputs": [],
      "execution_count": null
    },
    {
      "metadata": {},
      "source": [
        "### Normalization"
      ],
      "cell_type": "markdown"
    },
    {
      "metadata": {},
      "source": [
        "img_norm = normalize_img_stack(img_rescaled.copy())"
      ],
      "cell_type": "code",
      "outputs": [],
      "execution_count": null
    },
    {
      "metadata": {},
      "source": [
        "visualize.plot_multi_images([img_norm[i][0, ...] for i in range(n_samples)], **plt_kawargs).show()"
      ],
      "cell_type": "code",
      "outputs": [],
      "execution_count": null
    },
    {
      "metadata": {},
      "source": [
        "## PAH Classification"
      ],
      "cell_type": "markdown"
    },
    {
      "metadata": {},
      "source": [
        "from sklearn.model_selection import cross_validate\n",
        "from kale.pipeline.mpca_trainer import MPCATrainer\n",
        "\n",
        "x = np.concatenate([img_norm[i].reshape((1,) + img_norm[i].shape) for i in range(n_samples)], axis=0)\n",
        "trainer = MPCATrainer(classifier=cfg.PIPELINE.CLASSIFIER, n_features=200)\n",
        "cv_results = cross_validate(trainer, x, y, cv=10, scoring=[\"accuracy\", \"roc_auc\"], n_jobs=1)"
      ],
      "cell_type": "code",
      "outputs": [],
      "execution_count": null
    },
    {
      "metadata": {},
      "source": [
        "cv_results"
      ],
      "cell_type": "code",
      "outputs": [],
      "execution_count": null
    },
    {
      "metadata": {},
      "source": [
        "print(\"Averaged training time: {:.4f} seconds\" .format(np.mean(cv_results['fit_time'])))\n",
        "print(\"Averaged testing time: {:.4f} seconds\" .format(np.mean(cv_results['score_time'])))\n",
        "print(\"Averaged Accuracy: {:.4f}\" .format(np.mean(cv_results[\"test_accuracy\"])))\n",
        "print(\"Averaged AUC: {:.4f}\" .format(np.mean(cv_results[\"test_roc_auc\"])))"
      ],
      "cell_type": "code",
      "outputs": [],
      "execution_count": null
    },
    {
      "metadata": {},
      "source": [
        "## Model Interpretation"
      ],
      "cell_type": "markdown"
    },
    {
      "metadata": {},
      "source": [
        "from kale.interpret import model_weights\n",
        "\n",
        "trainer.fit(x, y)\n",
        "\n",
        "weights = trainer.mpca.inverse_transform(trainer.clf.coef_) - trainer.mpca.mean_\n",
        "weights = rescale_img_stack(weights, cfg.PROC.SCALE)  # rescale weights to original shape\n",
        "weights = mask_img_stack(weights, mask)  # masking weights\n",
        "top_weights = model_weights.select_top_weight(weights, select_ratio=0.02)  # select top 2% weights\n",
        "visualize.plot_weights(\n",
        "    top_weights[0][0],\n",
        "    background_img=images[0][0],\n",
        "    im_kwargs=dict(cfg.PLT_KWS.IM),\n",
        "    marker_kwargs=dict(cfg.PLT_KWS.WEIGHT),\n",
        ").show()"
      ],
      "cell_type": "code",
      "outputs": [],
      "execution_count": null
    }
  ]
}
