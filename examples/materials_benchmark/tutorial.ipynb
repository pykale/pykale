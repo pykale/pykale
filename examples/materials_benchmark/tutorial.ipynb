{
 "cells": [
  {
   "cell_type": "markdown",
   "metadata": {},
   "source": [
    "In this tutorial, we will use `PyKale` to train models that predict crystal band gap based on two modalities: atomic properties and crystal structure. \n",
    "\n",
    "We will work with data from Materials Project and BandgapDatabase1. Materials Projects provides 60,218 Perdew-Burke-Ernzerhof (PBE) band gaps, which is a lower fidelity computational data, and BandgapDatabase1 provides 1,183 experimentally measured band gaps from scientific literature. \n",
    "\n",
    "The main tasks of the tutorial are as follows:\n",
    "- Load and preprocess crystal structures\n",
    "- Train and evaluate AI models for band gap prediction using both modalities and fidelities\n",
    "    - Explore different evaluation strategies: Cross-validation and Leave-one-material-out\n",
    "    - Apply three traditional ML models (Linear Regression, Suppot Vector Regression, Random Forest Regression) and four graph neural networks (Crystal Graph Convolutional Neural Network (CGCNN), CartNet, and two variants of LEFTNet)\n",
    "- Visualise the model performance for interpretation"
   ]
  },
  {
   "cell_type": "markdown",
   "metadata": {},
   "source": []
  }
 ],
 "metadata": {
  "language_info": {
   "name": "python"
  }
 },
 "nbformat": 4,
 "nbformat_minor": 2
}
