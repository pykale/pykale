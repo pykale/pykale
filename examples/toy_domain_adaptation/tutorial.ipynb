{
  "nbformat": 4,
  "nbformat_minor": 5,
  "metadata": {},
  "cells": [
    {
      "metadata": {},
      "source": [
        "# PyKale Tutorial: Domain Adaptation on Toy Data\n",
        "| [Open in Colab](https://colab.research.google.com/github/pykale/pykale/blob/main/examples/toy_domain_adaptation/tutorial.ipynb) (click `Runtime`\u2006\u2192\u2006`Run all (Ctrl+F9)` |  [Launch Binder](https://mybinder.org/v2/gh/pykale/pykale/HEAD?filepath=examples%2Ftoy_domain_adaptation%2Ftutorial.ipynb) (click `Run`\u2006\u2192\u2006`Run All Cells`) |"
      ],
      "cell_type": "markdown"
    },
    {
      "metadata": {},
      "source": [
        "### Setup"
      ],
      "cell_type": "markdown"
    },
    {
      "metadata": {},
      "source": [
        "# import seaborn first to avoid seaborn import error caused by newer scipy version, to be solved later\n",
        "import seaborn as sns"
      ],
      "cell_type": "code",
      "outputs": [],
      "execution_count": null
    },
    {
      "metadata": {},
      "source": [
        "if 'google.colab' in str(get_ipython()):\n",
        "    print('Running on CoLab')\n",
        "    !pip uninstall --yes imgaug && pip uninstall --yes albumentations && pip install git+https://github.com/aleju/imgaug.git\n",
        "    !pip install numpy>=2.0.0\n",
        "    !pip install git+https://github.com/pykale/pykale.git\n",
        "    !git clone https://github.com/pykale/pykale.git\n",
        "    %cd pykale/examples/toy_domain_adaptation\n",
        "else:\n",
        "    print('Not running on CoLab')"
      ],
      "cell_type": "code",
      "outputs": [],
      "execution_count": null
    },
    {
      "metadata": {},
      "source": [
        "### Generate toy data"
      ],
      "cell_type": "markdown"
    },
    {
      "metadata": {},
      "source": [
        "%matplotlib inline\n",
        "import matplotlib.pyplot as plt\n",
        "import numpy as np\n",
        "\n",
        "from sklearn.datasets import make_moons, make_blobs"
      ],
      "cell_type": "code",
      "outputs": [],
      "execution_count": null
    },
    {
      "metadata": {},
      "source": [
        "n_samples = 1000\n",
        "\n",
        "xs, ys = make_blobs(n_samples, centers=[[0, 0], [0, 2]], cluster_std=[0.3, 0.35])\n",
        "xt, yt = make_blobs(n_samples, centers=[[2, -2], [2, 0.2]], cluster_std=[0.35, 0.4])"
      ],
      "cell_type": "code",
      "outputs": [],
      "execution_count": null
    },
    {
      "metadata": {},
      "source": [
        "colors = [\"c\", \"m\"]\n",
        "x_all = [xs, xt]\n",
        "y_all = [ys, yt]\n",
        "labels = [\"source\", \"Target\"]\n",
        "for i in range(2):\n",
        "    idx_pos = np.where(y_all[i] == 1)\n",
        "    idx_neg = np.where(y_all[i] == 0)\n",
        "    plt.scatter(x_all[i][idx_pos, 0], x_all[i][idx_pos, 1], c=colors[i], marker=\"o\", alpha=0.4, \n",
        "                label=labels[i] + \" positive\")\n",
        "    plt.scatter(x_all[i][idx_neg, 0], x_all[i][idx_neg, 1], c=colors[i], marker=\"x\", alpha=0.4, \n",
        "                label=labels[i] + \" negative\")\n",
        "plt.legend()\n",
        "plt.title('Source domain and target domain blobs data',fontsize=14,fontweight='bold')"
      ],
      "cell_type": "code",
      "outputs": [],
      "execution_count": null
    },
    {
      "metadata": {},
      "source": [
        "### Classification"
      ],
      "cell_type": "markdown"
    },
    {
      "metadata": {},
      "source": [
        "from sklearn.preprocessing import OneHotEncoder\n",
        "from sklearn.linear_model import RidgeClassifier\n",
        "from sklearn.metrics import accuracy_score\n",
        "from kale.interpret.visualize import distplot_1d\n",
        "from kale.pipeline.multi_domain_adapter import CoIRLS"
      ],
      "cell_type": "code",
      "outputs": [],
      "execution_count": null
    },
    {
      "metadata": {},
      "source": [
        "#### Training a standard Ridge classifier"
      ],
      "cell_type": "markdown"
    },
    {
      "metadata": {},
      "source": [
        "clf = RidgeClassifier(alpha=1.0)\n",
        "clf.fit(xs, ys)\n",
        "\n",
        "yt_pred = clf.predict(xt)\n",
        "print('Accuracy on target domain: {:.2f}'.format(accuracy_score(yt, yt_pred)))"
      ],
      "cell_type": "code",
      "outputs": [],
      "execution_count": null
    },
    {
      "metadata": {},
      "source": [
        "ys_score = clf.decision_function(xs)\n",
        "yt_score = clf.decision_function(xt)\n",
        "\n",
        "title = \"Ridge classifier decision score distribution\"\n",
        "title_kwargs = {\"fontsize\": 14, \"fontweight\": \"bold\"}\n",
        "hist_kwargs = {\"kde\": True, \"alpha\": 0.7}\n",
        "plt_labels = [\"Source\", \"Target\"]\n",
        "distplot_1d(\n",
        "    [ys_score, yt_score],\n",
        "    title=title,\n",
        "    xlabel=\"Decision Scores\",\n",
        "    labels=plt_labels,\n",
        "    hist_kwargs=hist_kwargs,\n",
        "    title_kwargs=title_kwargs,\n",
        ").show()"
      ],
      "cell_type": "code",
      "outputs": [],
      "execution_count": null
    },
    {
      "metadata": {},
      "source": [
        "#### Training a domain adaptation classifier"
      ],
      "cell_type": "markdown"
    },
    {
      "metadata": {},
      "source": [
        "clf_ = CoIRLS()\n",
        "# encoding one-hot domain covariate matrix\n",
        "covariates = np.zeros(n_samples * 2)\n",
        "covariates[:n_samples] = 1\n",
        "enc = OneHotEncoder(handle_unknown=\"ignore\")\n",
        "covariates_mat = enc.fit_transform(covariates.reshape(-1, 1)).toarray()"
      ],
      "cell_type": "code",
      "outputs": [],
      "execution_count": null
    },
    {
      "metadata": {},
      "source": [
        "x = np.concatenate((xs, xt))\n",
        "clf_.fit(x, ys, covariates_mat)\n",
        "yt_pred_ = clf_.predict(xt)\n",
        "print(\"Accuracy on target domain: {:.2f}\".format(accuracy_score(yt, yt_pred_)))"
      ],
      "cell_type": "code",
      "outputs": [],
      "execution_count": null
    },
    {
      "metadata": {},
      "source": [
        "ys_score_ = clf_.decision_function(xs).detach().numpy().reshape(-1)\n",
        "yt_score_ = clf_.decision_function(xt).detach().numpy().reshape(-1)\n",
        "plt.figure(figsize=(10, 5))\n",
        "title = \"Domain adaptation classifier decision score distribution\"\n",
        "distplot_1d(\n",
        "    [ys_score_, yt_score_],\n",
        "    title=title,\n",
        "    xlabel=\"Decision Scores\",\n",
        "    labels=plt_labels,\n",
        "    hist_kwargs=hist_kwargs,\n",
        "    title_kwargs=title_kwargs,\n",
        ").show()"
      ],
      "cell_type": "code",
      "outputs": [],
      "execution_count": null
    }
  ]
}
